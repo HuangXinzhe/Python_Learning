{
 "cells": [
  {
   "cell_type": "markdown",
   "metadata": {},
   "source": [
    "# for-in循环\n",
    "> 如果明确的知道循环执行的次数或者要对一个容器进行迭代，推荐使用for-in循环\n",
    "\n",
    "# while循环\n",
    "> 如果要构造不知道具体循环次数的循环结构，推荐使用while循环。\n",
    "\n",
    "# 注意\n",
    "- break关键字来提前终止循环，只能终止它所在的那个循环。\n",
    "- continue关键字可以用来放弃本次循环后续的代码直接让循环进入下一轮。"
   ]
  }
 ],
 "metadata": {
  "kernelspec": {
   "display_name": "Python 3",
   "language": "python",
   "name": "python3"
  },
  "language_info": {
   "codemirror_mode": {
    "name": "ipython",
    "version": 3
   },
   "file_extension": ".py",
   "mimetype": "text/x-python",
   "name": "python",
   "nbconvert_exporter": "python",
   "pygments_lexer": "ipython3",
   "version": "3.7.9"
  }
 },
 "nbformat": 4,
 "nbformat_minor": 4
}
