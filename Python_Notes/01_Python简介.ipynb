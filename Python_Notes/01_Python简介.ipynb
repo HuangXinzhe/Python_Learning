{
 "cells": [
  {
   "cell_type": "markdown",
   "metadata": {},
   "source": [
    "- 代码量少\n",
    "- 运行速度慢\n",
    "- 编写者：“龟叔”Guido van Rossum\n",
    "- Python提供了非常完善的基础代码库，覆盖了网络、文件、GUI、数据库、文本等大量内容，被形象地称作“内置电池（batteries included）”。\n",
    "- Python还有大量的第三方库\n",
    "- 龟叔给Python的定位是“优雅”、“明确”、“简单”\n",
    "- 适合开发的应用：\n",
    "    1. 网络应用\n",
    "    2. 日常小工具\n",
    "    3. 把其他语言开发的程序再包装起来，方便使用\n",
    "- 缺点：\n",
    "    1. 速度慢\n",
    "    2. 代码不能加密"
   ]
  }
 ],
 "metadata": {
  "kernelspec": {
   "display_name": "Python 3",
   "language": "python",
   "name": "python3"
  },
  "language_info": {
   "codemirror_mode": {
    "name": "ipython",
    "version": 3
   },
   "file_extension": ".py",
   "mimetype": "text/x-python",
   "name": "python",
   "nbconvert_exporter": "python",
   "pygments_lexer": "ipython3",
   "version": "3.7.9"
  }
 },
 "nbformat": 4,
 "nbformat_minor": 4
}
